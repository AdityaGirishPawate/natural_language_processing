{
 "cells": [
  {
   "cell_type": "code",
   "execution_count": 16,
   "metadata": {},
   "outputs": [],
   "source": [
    "import tensorflow as tf\n",
    "import numpy as np\n",
    "import pandas as pd\n",
    "from tensorflow.keras.preprocessing.text import Tokenizer\n",
    "from tensorflow.keras.preprocessing.sequence import pad_sequences\n"
   ]
  },
  {
   "cell_type": "code",
   "execution_count": 17,
   "metadata": {},
   "outputs": [],
   "source": [
    "df=pd.read_csv(\"./train.csv\")\n"
   ]
  },
  {
   "cell_type": "code",
   "execution_count": 40,
   "metadata": {},
   "outputs": [],
   "source": [
    "train_x=df['text'][:6000]\n",
    "train_y=np.array(df['target'][:6000])\n",
    "val_x=df['text'][6000:]\n",
    "val_y=np.array(df['target'][6000:])\n",
    "\n",
    "#print(train_x[1:5],\"\\n\",train_y[1:5],\"\\n\",test_x[1:5],\"\\n\",test_y[1:5])\n"
   ]
  },
  {
   "cell_type": "code",
   "execution_count": 41,
   "metadata": {},
   "outputs": [],
   "source": [
    "vocab_size=20000\n",
    "embedding_dim=64\n",
    "max_length=120\n",
    "trunc_type='post'\n",
    "oov_token=\"<OOV>\""
   ]
  },
  {
   "cell_type": "code",
   "execution_count": 42,
   "metadata": {},
   "outputs": [],
   "source": [
    "tokenizer = Tokenizer(vocab_size,oov_token)\n",
    "tokenizer.fit_on_texts(train_x)\n",
    "word_index=tokenizer.word_index\n",
    "sequences = tokenizer.texts_to_sequences(train_x)\n",
    "padded = pad_sequences(sequences, maxlen=max_length,truncating=trunc_type)\n",
    "\n",
    "test_seq = tokenizer.texts_to_sequences(val_x)\n",
    "test_padded = pad_sequences(test_seq, maxlen=max_length,truncating=trunc_type)"
   ]
  },
  {
   "cell_type": "code",
   "execution_count": 43,
   "metadata": {},
   "outputs": [],
   "source": [
    "from keras.regularizers import l1\n",
    "from tensorflow.keras.layers import Embedding,GlobalAveragePooling1D,Dense,Dropout\n",
    "import matplotlib.pyplot as plt\n",
    "# instantiate regularizer\n",
    "reg = l1(0.005)"
   ]
  },
  {
   "cell_type": "code",
   "execution_count": 44,
   "metadata": {},
   "outputs": [
    {
     "name": "stdout",
     "output_type": "stream",
     "text": [
      "Model: \"sequential_9\"\n",
      "_________________________________________________________________\n",
      "Layer (type)                 Output Shape              Param #   \n",
      "=================================================================\n",
      "embedding_9 (Embedding)      (None, 120, 64)           1280000   \n",
      "_________________________________________________________________\n",
      "global_average_pooling1d_9 ( (None, 64)                0         \n",
      "_________________________________________________________________\n",
      "dropout_9 (Dropout)          (None, 64)                0         \n",
      "_________________________________________________________________\n",
      "dense_27 (Dense)             (None, 64)                4160      \n",
      "_________________________________________________________________\n",
      "dropout_10 (Dropout)         (None, 64)                0         \n",
      "_________________________________________________________________\n",
      "dense_28 (Dense)             (None, 32)                2080      \n",
      "_________________________________________________________________\n",
      "dense_29 (Dense)             (None, 1)                 33        \n",
      "=================================================================\n",
      "Total params: 1,286,273\n",
      "Trainable params: 1,286,273\n",
      "Non-trainable params: 0\n",
      "_________________________________________________________________\n",
      "None\n"
     ]
    }
   ],
   "source": [
    "model = tf.keras.Sequential([\n",
    "    Embedding(vocab_size,embedding_dim,input_length=max_length),\n",
    "    GlobalAveragePooling1D(),\n",
    "    Dropout(0.2,input_shape=(64,)),\n",
    "    Dense(64,activation='relu',kernel_initializer='glorot_normal',activity_regularizer=reg),\n",
    "    Dropout(0.2,input_shape=(32,)),\n",
    "    Dense(32,activation='relu',kernel_initializer='glorot_normal',activity_regularizer=reg),\n",
    "    \n",
    "    Dense(1,activation='sigmoid',kernel_initializer='glorot_normal',activity_regularizer=reg)\n",
    "])\n",
    "model.compile(loss='binary_crossentropy',optimizer='adam',metrics=['accuracy'])\n",
    "print(model.summary())"
   ]
  },
  {
   "cell_type": "code",
   "execution_count": 45,
   "metadata": {},
   "outputs": [
    {
     "name": "stdout",
     "output_type": "stream",
     "text": [
      "Train on 6000 samples, validate on 1613 samples\n",
      "Epoch 1/10\n",
      "6000/6000 [==============================] - 4s 744us/sample - loss: 0.6868 - accuracy: 0.5805 - val_loss: 0.6926 - val_accuracy: 0.5325\n",
      "Epoch 2/10\n",
      "6000/6000 [==============================] - 3s 536us/sample - loss: 0.6072 - accuracy: 0.6823 - val_loss: 0.5815 - val_accuracy: 0.6987\n",
      "Epoch 3/10\n",
      "6000/6000 [==============================] - 3s 572us/sample - loss: 0.4074 - accuracy: 0.8428 - val_loss: 0.5467 - val_accuracy: 0.7433\n",
      "Epoch 4/10\n",
      "6000/6000 [==============================] - 3s 565us/sample - loss: 0.3009 - accuracy: 0.8948 - val_loss: 0.5216 - val_accuracy: 0.7737\n",
      "Epoch 5/10\n",
      "6000/6000 [==============================] - 4s 594us/sample - loss: 0.2217 - accuracy: 0.9325 - val_loss: 0.5624 - val_accuracy: 0.7607\n",
      "Epoch 6/10\n",
      "6000/6000 [==============================] - 3s 561us/sample - loss: 0.1751 - accuracy: 0.9498 - val_loss: 0.6792 - val_accuracy: 0.7111\n",
      "Epoch 7/10\n",
      "6000/6000 [==============================] - 3s 544us/sample - loss: 0.1352 - accuracy: 0.9668 - val_loss: 0.6594 - val_accuracy: 0.7452\n",
      "Epoch 8/10\n",
      "6000/6000 [==============================] - 3s 531us/sample - loss: 0.1171 - accuracy: 0.9732 - val_loss: 0.6959 - val_accuracy: 0.7322\n",
      "Epoch 9/10\n",
      "6000/6000 [==============================] - 4s 600us/sample - loss: 0.1067 - accuracy: 0.9763 - val_loss: 0.7118 - val_accuracy: 0.7347\n",
      "Epoch 10/10\n",
      "6000/6000 [==============================] - 4s 613us/sample - loss: 0.0974 - accuracy: 0.9817 - val_loss: 0.7624 - val_accuracy: 0.7272\n"
     ]
    }
   ],
   "source": [
    "\n",
    "num_epochs=10\n",
    "history=model.fit(padded,train_y,epochs=num_epochs,validation_data=(test_padded,val_y),batch_size=32)\n"
   ]
  },
  {
   "cell_type": "code",
   "execution_count": 46,
   "metadata": {},
   "outputs": [
    {
     "data": {
      "text/plain": [
       "<matplotlib.legend.Legend at 0x7f377c733f90>"
      ]
     },
     "execution_count": 46,
     "metadata": {},
     "output_type": "execute_result"
    },
    {
     "data": {
      "image/png": "[encoded data removed]",
      "text/plain": [
       "<Figure size 432x288 with 1 Axes>"
      ]
     },
     "metadata": {
      "needs_background": "light"
     },
     "output_type": "display_data"
    }
   ],
   "source": [
    "plt.plot(history.history['accuracy'])\n",
    "plt.plot(history.history['val_accuracy'],color='r')\n",
    "#plt.plot(history.history['loss'],color='r')\n",
    "plt.xlabel('epoch')\n",
    "plt.ylabel('accuracy')\n",
    "plt.title('model accuracy')\n",
    "plt.legend(['train', 'loss'], loc='upper left')"
   ]
  },
  {
   "cell_type": "code",
   "execution_count": null,
   "metadata": {},
   "outputs": [],
   "source": []
  }
 ],
 "metadata": {
  "kernelspec": {
   "display_name": "Python 3",
   "language": "python",
   "name": "python3"
  },
  "language_info": {
   "codemirror_mode": {
    "name": "ipython",
    "version": 3
   },
   "file_extension": ".py",
   "mimetype": "text/x-python",
   "name": "python",
   "nbconvert_exporter": "python",
   "pygments_lexer": "ipython3",
   "version": "3.7.6"
  }
 },
 "nbformat": 4,
 "nbformat_minor": 4
}
