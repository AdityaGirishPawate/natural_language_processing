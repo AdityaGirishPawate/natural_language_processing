{
 "cells": [
  {
   "cell_type": "code",
   "execution_count": 1,
   "metadata": {},
   "outputs": [],
   "source": [
    "import tensorflow as tf\n",
    "import numpy as np\n",
    "import pandas as pd\n",
    "from tensorflow.keras.preprocessing.text import Tokenizer\n",
    "from tensorflow.keras.preprocessing.sequence import pad_sequences\n"
   ]
  },
  {
   "cell_type": "code",
   "execution_count": 2,
   "metadata": {},
   "outputs": [],
   "source": [
    "df=pd.read_csv(\"./train.csv\")\n",
    "\n",
    "train_x=df['text'][:7000]\n",
    "train_y=np.array(df['target'][:7000])\n",
    "val_x=df['text'][7000:]\n",
    "val_y=np.array(df['target'][7000:])\n",
    "\n",
    "vocab_size=20000\n",
    "embedding_dim=64\n",
    "max_length=120\n",
    "trunc_type='post'\n",
    "oov_token=\"<OOV>\"\n",
    "\n",
    "tokenizer = Tokenizer(vocab_size,oov_token)\n",
    "tokenizer.fit_on_texts(train_x)\n",
    "word_index=tokenizer.word_index\n",
    "sequences = tokenizer.texts_to_sequences(train_x)\n",
    "padded = pad_sequences(sequences, maxlen=max_length,truncating=trunc_type)\n",
    "\n",
    "test_seq = tokenizer.texts_to_sequences(val_x)\n",
    "test_padded = pad_sequences(test_seq, maxlen=max_length,truncating=trunc_type)"
   ]
  },
  {
   "cell_type": "code",
   "execution_count": 3,
   "metadata": {},
   "outputs": [
    {
     "name": "stderr",
     "output_type": "stream",
     "text": [
      "Using TensorFlow backend.\n"
     ]
    }
   ],
   "source": [
    "from keras.regularizers import l1\n",
    "# instantiate regularizer\n",
    "reg = l1(0.01)"
   ]
  },
  {
   "cell_type": "code",
   "execution_count": 9,
   "metadata": {},
   "outputs": [],
   "source": [
    "model = tf.keras.Sequential([\n",
    "    tf.keras.layers.Embedding(vocab_size,embedding_dim,input_length=max_length),\n",
    "    tf.keras.layers.Bidirectional(tf.keras.layers.LSTM(64,kernel_initializer='glorot_normal',activity_regularizer=reg,return_sequences=True)),\n",
    "    tf.keras.layers.Bidirectional(tf.keras.layers.LSTM(128,kernel_initializer='glorot_normal',activity_regularizer=reg)),\n",
    "    tf.keras.layers.Dense(32,activation='relu',kernel_initializer='glorot_normal',activity_regularizer=reg),\n",
    "    tf.keras.layers.Dense(8,activation='relu',kernel_initializer='glorot_normal',activity_regularizer=reg),\n",
    "    tf.keras.layers.Dense(1,activation='sigmoid',kernel_initializer='glorot_normal',activity_regularizer=reg)\n",
    "])"
   ]
  },
  {
   "cell_type": "code",
   "execution_count": 10,
   "metadata": {},
   "outputs": [
    {
     "name": "stdout",
     "output_type": "stream",
     "text": [
      "Model: \"sequential_3\"\n",
      "_________________________________________________________________\n",
      "Layer (type)                 Output Shape              Param #   \n",
      "=================================================================\n",
      "embedding_3 (Embedding)      (None, 120, 64)           1280000   \n",
      "_________________________________________________________________\n",
      "bidirectional_5 (Bidirection (None, 120, 128)          66048     \n",
      "_________________________________________________________________\n",
      "bidirectional_6 (Bidirection (None, 256)               263168    \n",
      "_________________________________________________________________\n",
      "dense_8 (Dense)              (None, 32)                8224      \n",
      "_________________________________________________________________\n",
      "dense_9 (Dense)              (None, 8)                 264       \n",
      "_________________________________________________________________\n",
      "dense_10 (Dense)             (None, 1)                 9         \n",
      "=================================================================\n",
      "Total params: 1,617,713\n",
      "Trainable params: 1,617,713\n",
      "Non-trainable params: 0\n",
      "_________________________________________________________________\n",
      "None\n",
      "Train on 7000 samples, validate on 613 samples\n",
      "Epoch 1/5\n",
      "7000/7000 [==============================] - 85s 12ms/sample - loss: 0.8365 - accuracy: 0.5790 - val_loss: 0.7511 - val_accuracy: 0.4715\n",
      "Epoch 2/5\n",
      "7000/7000 [==============================] - 83s 12ms/sample - loss: 0.6473 - accuracy: 0.6939 - val_loss: 0.6951 - val_accuracy: 0.7439\n",
      "Epoch 3/5\n",
      "7000/7000 [==============================] - 86s 12ms/sample - loss: 0.4862 - accuracy: 0.9100 - val_loss: 0.6703 - val_accuracy: 0.7488\n",
      "Epoch 4/5\n",
      "7000/7000 [==============================] - 74s 11ms/sample - loss: 0.3907 - accuracy: 0.9386 - val_loss: 0.6986 - val_accuracy: 0.7488\n",
      "Epoch 5/5\n",
      "7000/7000 [==============================] - 103s 15ms/sample - loss: 0.3338 - accuracy: 0.9554 - val_loss: 0.6456 - val_accuracy: 0.7406\n"
     ]
    },
    {
     "data": {
      "text/plain": [
       "<tensorflow.python.keras.callbacks.History at 0x7f2a78d06b90>"
      ]
     },
     "execution_count": 10,
     "metadata": {},
     "output_type": "execute_result"
    }
   ],
   "source": [
    "num_epochs=5\n",
    "\n",
    "model.compile(loss='binary_crossentropy',optimizer='adam',metrics=['accuracy'])\n",
    "print(model.summary())\n",
    "\n",
    "model.fit(padded,train_y,epochs=num_epochs,validation_data=(test_padded,val_y),batch_size=32)\n"
   ]
  },
  {
   "cell_type": "code",
   "execution_count": null,
   "metadata": {},
   "outputs": [],
   "source": [
    "plt.plot(history.history['accuracy'])\n",
    "plt.plot(history.history['val_accuracy'],color='r')\n",
    "#plt.plot(history.history['loss'],color='r')\n",
    "plt.xlabel('epoch')\n",
    "plt.ylabel('accuracy')\n",
    "plt.title('model accuracy')\n",
    "plt.legend(['train', 'loss'], loc='upper left')"
   ]
  }
 ],
 "metadata": {
  "kernelspec": {
   "display_name": "Python 3",
   "language": "python",
   "name": "python3"
  },
  "language_info": {
   "codemirror_mode": {
    "name": "ipython",
    "version": 3
   },
   "file_extension": ".py",
   "mimetype": "text/x-python",
   "name": "python",
   "nbconvert_exporter": "python",
   "pygments_lexer": "ipython3",
   "version": "3.7.6"
  }
 },
 "nbformat": 4,
 "nbformat_minor": 4
}
